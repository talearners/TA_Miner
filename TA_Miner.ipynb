{
 "cells": [
  {
   "cell_type": "code",
   "execution_count": null,
   "metadata": {},
   "outputs": [],
   "source": [
    "from selenium.webdriver import Chrome\n",
    "from selenium.webdriver.common.by import By\n",
    "from selenium.webdriver.common.keys import Keys\n",
    "from selenium.webdriver.chrome.options import Options\n",
    "from selenium.webdriver.support.wait import WebDriverWait,TimeoutException\n",
    "from selenium.webdriver.support.expected_conditions import (\n",
    "    presence_of_element_located as pfel,\n",
    "    presence_of_all_elements_located as pfael\n",
    ")\n",
    "from json import load,dump\n",
    "from time import sleep\n",
    "from random import randrange"
   ]
  },
  {
   "cell_type": "markdown",
   "metadata": {},
   "source": [
    "<a href=\"https://chromedriver.chromium.org/downloads\" style=\"font-family:monospace;text-decoration:none;color:white;background-color:purple;\"><span>Click Me To Download</span></a>"
   ]
  },
  {
   "cell_type": "code",
   "execution_count": null,
   "metadata": {},
   "outputs": [],
   "source": [
    "timeout = lambda :sleep(randrange(5))\n",
    "option = Options()\n",
    "option.add_argument(\"--log-level=3\")\n",
    "driver = Chrome(executable_path='./Driver/chromedriver.exe',chrome_options=option)\n",
    "driver.get(\"https://getlike.io/en/login/\")"
   ]
  },
  {
   "cell_type": "markdown",
   "metadata": {},
   "source": [
    "#### Hey Gusy Check Out My Youtube channel how to get cookies\n",
    "#### Search on YOutube ``TA Learners``\n",
    "<a href=\"https://www.youtube.com/watch?v=PwVYofA3I3M\"> Click Me </a>"
   ]
  },
  {
   "cell_type": "code",
   "execution_count": null,
   "metadata": {},
   "outputs": [],
   "source": [
    "with open('./Cookies/gt.json','r') as files:\n",
    "    for cookie in load(files):\n",
    "        driver.add_cookie(cookie)\n",
    "    driver.refresh()\n",
    "\n",
    "timeout()\n",
    "driver.get('https://instagram.com')\n",
    "timeout()\n",
    "with open(\"./Cookies/ig.json\",'r') as files:\n",
    "    for cookie in load(files):\n",
    "        driver.add_cookie(cookie)\n",
    "    driver.refresh()"
   ]
  },
  {
   "cell_type": "code",
   "execution_count": null,
   "metadata": {},
   "outputs": [],
   "source": [
    "driver.get(\"https://getlike.io/en/tasks/instagram/subscribe/\")\n",
    "follower = lambda timeout: WebDriverWait(driver,timeout).until(\n",
    "    pfael((By.TAG_NAME,\"article\")),\n",
    "    str(\"[+] No Task available\")\n",
    ")"
   ]
  },
  {
   "cell_type": "code",
   "execution_count": null,
   "metadata": {},
   "outputs": [],
   "source": [
    "parent_window = driver.current_window_handle\n",
    "tabs = lambda : driver.window_handles"
   ]
  },
  {
   "cell_type": "code",
   "execution_count": null,
   "metadata": {},
   "outputs": [],
   "source": [
    "def Follow(element):\n",
    "    task_btn = element.find_element_by_class_name(\"do.do-task.btn.btn-sm.btn-primary.btn-block\")\n",
    "    timeout()\n",
    "    task_btn.click()\n",
    "    instagram_tab = tabs()[-1]\n",
    "    print(instagram_tab)\n",
    "    sleep(2)\n",
    "    if (parent_window == instagram_tab):\n",
    "        return False\n",
    "    \n",
    "    driver.switch_to.window(instagram_tab)\n",
    "    timeout()\n",
    "    miannav = WebDriverWait(driver,20).until(\n",
    "        pfel((By.XPATH,'//*[@id=\"react-root\"]/div/div/section/nav/div[2]/div/div/div[3]'))\n",
    "    )\n",
    "    if not miannav.is_displayed():\n",
    "        return False\n",
    "    follow_btn = driver.find_element_by_xpath('//*[@id=\"react-root\"]/div/div/section/main/div/header/section/div[1]/div[1]/div/div/div/span/span[1]/button')\n",
    "    timeout()\n",
    "    if follow_btn.text == 'Follow':\n",
    "        follow_btn.click()\n",
    "    timeout()\n",
    "    driver.close()\n",
    "    if len(tabs()) > 1:\n",
    "        driver.close()\n",
    "    sleep(2)\n",
    "    driver.switch_to.window(parent_window)\n",
    "    timeout()\n",
    "    check = driver.find_element_by_class_name(\"do.btn.btn-sm.btn-primary.btn-block.btn-success.check-task\")\n",
    "    check.click()\n",
    "    return True"
   ]
  },
  {
   "cell_type": "code",
   "execution_count": null,
   "metadata": {},
   "outputs": [],
   "source": [
    "for index in follower(20):\n",
    "    try:\n",
    "        if not Follow(index):\n",
    "            print(\"[-] \\033[31;1m No Task available\")\n",
    "            continue\n",
    "        print(\"[+]\\033[32;1m Complete task\")\n",
    "    except:\n",
    "        print(\"[-]\\033[31;1m Error in following task !\")\n",
    "    driver.switch_to.window(parent_window)\n",
    "    timeout()"
   ]
  }
 ],
 "metadata": {
  "interpreter": {
   "hash": "5b9b28df39bc21fd59c0af7fdc3630cb28fb4e15672577cbf3c1fa2ac8c3f9d1"
  },
  "kernelspec": {
   "display_name": "Python 3.10.2 64-bit",
   "language": "python",
   "name": "python3"
  },
  "language_info": {
   "codemirror_mode": {
    "name": "ipython",
    "version": 3
   },
   "file_extension": ".py",
   "mimetype": "text/x-python",
   "name": "python",
   "nbconvert_exporter": "python",
   "pygments_lexer": "ipython3",
   "version": "3.10.2"
  },
  "orig_nbformat": 4
 },
 "nbformat": 4,
 "nbformat_minor": 2
}
